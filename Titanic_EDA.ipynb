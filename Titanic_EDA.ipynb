{
 "cells": [
  {
   "cell_type": "markdown",
   "id": "9016f0ed",
   "metadata": {},
   "source": [
    "# Подключение библиотек"
   ]
  },
  {
   "cell_type": "code",
   "execution_count": 191,
   "id": "fa0d3d15",
   "metadata": {},
   "outputs": [],
   "source": [
    "import pandas as pd\n",
    "import numpy as np\n",
    "import seaborn as sns\n",
    "import matplotlib\n",
    "import matplotlib.pyplot as plt\n",
    "%matplotlib inline\n",
    "\n",
    "sns.set_style('darkgrid')\n",
    "matplotlib.rcParams['font.size'] = 14\n",
    "matplotlib.rcParams['figure.figsize'] = (20, 5)\n",
    "matplotlib.rcParams['figure.facecolor'] = '#00000000'"
   ]
  },
  {
   "cell_type": "markdown",
   "id": "e13dcc2c",
   "metadata": {},
   "source": [
    "# Подключение и очистка данных"
   ]
  },
  {
   "cell_type": "code",
   "execution_count": 192,
   "id": "7ccf42bc",
   "metadata": {},
   "outputs": [
    {
     "data": {
      "text/html": [
       "<div>\n",
       "<style scoped>\n",
       "    .dataframe tbody tr th:only-of-type {\n",
       "        vertical-align: middle;\n",
       "    }\n",
       "\n",
       "    .dataframe tbody tr th {\n",
       "        vertical-align: top;\n",
       "    }\n",
       "\n",
       "    .dataframe thead th {\n",
       "        text-align: right;\n",
       "    }\n",
       "</style>\n",
       "<table border=\"1\" class=\"dataframe\">\n",
       "  <thead>\n",
       "    <tr style=\"text-align: right;\">\n",
       "      <th></th>\n",
       "      <th>PassengerId</th>\n",
       "      <th>Survived</th>\n",
       "      <th>Pclass</th>\n",
       "      <th>Name</th>\n",
       "      <th>Sex</th>\n",
       "      <th>Age</th>\n",
       "      <th>SibSp</th>\n",
       "      <th>Parch</th>\n",
       "      <th>Ticket</th>\n",
       "      <th>Fare</th>\n",
       "      <th>Cabin</th>\n",
       "      <th>Embarked</th>\n",
       "    </tr>\n",
       "  </thead>\n",
       "  <tbody>\n",
       "    <tr>\n",
       "      <th>0</th>\n",
       "      <td>0</td>\n",
       "      <td>1</td>\n",
       "      <td>1</td>\n",
       "      <td>Oconnor, Frankie</td>\n",
       "      <td>male</td>\n",
       "      <td>NaN</td>\n",
       "      <td>2</td>\n",
       "      <td>0</td>\n",
       "      <td>209245</td>\n",
       "      <td>27.14</td>\n",
       "      <td>C12239</td>\n",
       "      <td>S</td>\n",
       "    </tr>\n",
       "    <tr>\n",
       "      <th>1</th>\n",
       "      <td>1</td>\n",
       "      <td>0</td>\n",
       "      <td>3</td>\n",
       "      <td>Bryan, Drew</td>\n",
       "      <td>male</td>\n",
       "      <td>NaN</td>\n",
       "      <td>0</td>\n",
       "      <td>0</td>\n",
       "      <td>27323</td>\n",
       "      <td>13.35</td>\n",
       "      <td>NaN</td>\n",
       "      <td>S</td>\n",
       "    </tr>\n",
       "    <tr>\n",
       "      <th>2</th>\n",
       "      <td>2</td>\n",
       "      <td>0</td>\n",
       "      <td>3</td>\n",
       "      <td>Owens, Kenneth</td>\n",
       "      <td>male</td>\n",
       "      <td>0.33</td>\n",
       "      <td>1</td>\n",
       "      <td>2</td>\n",
       "      <td>CA 457703</td>\n",
       "      <td>71.29</td>\n",
       "      <td>NaN</td>\n",
       "      <td>S</td>\n",
       "    </tr>\n",
       "    <tr>\n",
       "      <th>3</th>\n",
       "      <td>3</td>\n",
       "      <td>0</td>\n",
       "      <td>3</td>\n",
       "      <td>Kramer, James</td>\n",
       "      <td>male</td>\n",
       "      <td>19.00</td>\n",
       "      <td>0</td>\n",
       "      <td>0</td>\n",
       "      <td>A. 10866</td>\n",
       "      <td>13.04</td>\n",
       "      <td>NaN</td>\n",
       "      <td>S</td>\n",
       "    </tr>\n",
       "    <tr>\n",
       "      <th>4</th>\n",
       "      <td>4</td>\n",
       "      <td>1</td>\n",
       "      <td>3</td>\n",
       "      <td>Bond, Michael</td>\n",
       "      <td>male</td>\n",
       "      <td>25.00</td>\n",
       "      <td>0</td>\n",
       "      <td>0</td>\n",
       "      <td>427635</td>\n",
       "      <td>7.76</td>\n",
       "      <td>NaN</td>\n",
       "      <td>S</td>\n",
       "    </tr>\n",
       "    <tr>\n",
       "      <th>...</th>\n",
       "      <td>...</td>\n",
       "      <td>...</td>\n",
       "      <td>...</td>\n",
       "      <td>...</td>\n",
       "      <td>...</td>\n",
       "      <td>...</td>\n",
       "      <td>...</td>\n",
       "      <td>...</td>\n",
       "      <td>...</td>\n",
       "      <td>...</td>\n",
       "      <td>...</td>\n",
       "      <td>...</td>\n",
       "    </tr>\n",
       "    <tr>\n",
       "      <th>99995</th>\n",
       "      <td>99995</td>\n",
       "      <td>1</td>\n",
       "      <td>2</td>\n",
       "      <td>Bell, Adele</td>\n",
       "      <td>female</td>\n",
       "      <td>62.00</td>\n",
       "      <td>0</td>\n",
       "      <td>0</td>\n",
       "      <td>PC 15008</td>\n",
       "      <td>14.86</td>\n",
       "      <td>D17243</td>\n",
       "      <td>C</td>\n",
       "    </tr>\n",
       "    <tr>\n",
       "      <th>99996</th>\n",
       "      <td>99996</td>\n",
       "      <td>0</td>\n",
       "      <td>2</td>\n",
       "      <td>Brown, Herman</td>\n",
       "      <td>male</td>\n",
       "      <td>66.00</td>\n",
       "      <td>0</td>\n",
       "      <td>0</td>\n",
       "      <td>13273</td>\n",
       "      <td>11.15</td>\n",
       "      <td>NaN</td>\n",
       "      <td>S</td>\n",
       "    </tr>\n",
       "    <tr>\n",
       "      <th>99997</th>\n",
       "      <td>99997</td>\n",
       "      <td>0</td>\n",
       "      <td>3</td>\n",
       "      <td>Childress, Charles</td>\n",
       "      <td>male</td>\n",
       "      <td>37.00</td>\n",
       "      <td>0</td>\n",
       "      <td>0</td>\n",
       "      <td>NaN</td>\n",
       "      <td>9.95</td>\n",
       "      <td>NaN</td>\n",
       "      <td>S</td>\n",
       "    </tr>\n",
       "    <tr>\n",
       "      <th>99998</th>\n",
       "      <td>99998</td>\n",
       "      <td>0</td>\n",
       "      <td>3</td>\n",
       "      <td>Caughlin, Thomas</td>\n",
       "      <td>male</td>\n",
       "      <td>51.00</td>\n",
       "      <td>0</td>\n",
       "      <td>1</td>\n",
       "      <td>458654</td>\n",
       "      <td>30.92</td>\n",
       "      <td>NaN</td>\n",
       "      <td>S</td>\n",
       "    </tr>\n",
       "    <tr>\n",
       "      <th>99999</th>\n",
       "      <td>99999</td>\n",
       "      <td>0</td>\n",
       "      <td>3</td>\n",
       "      <td>Enciso, Tyler</td>\n",
       "      <td>male</td>\n",
       "      <td>55.00</td>\n",
       "      <td>0</td>\n",
       "      <td>0</td>\n",
       "      <td>458074</td>\n",
       "      <td>13.96</td>\n",
       "      <td>NaN</td>\n",
       "      <td>S</td>\n",
       "    </tr>\n",
       "  </tbody>\n",
       "</table>\n",
       "<p>100000 rows × 12 columns</p>\n",
       "</div>"
      ],
      "text/plain": [
       "       PassengerId  Survived  Pclass                Name     Sex    Age  \\\n",
       "0                0         1       1    Oconnor, Frankie    male    NaN   \n",
       "1                1         0       3         Bryan, Drew    male    NaN   \n",
       "2                2         0       3      Owens, Kenneth    male   0.33   \n",
       "3                3         0       3       Kramer, James    male  19.00   \n",
       "4                4         1       3       Bond, Michael    male  25.00   \n",
       "...            ...       ...     ...                 ...     ...    ...   \n",
       "99995        99995         1       2         Bell, Adele  female  62.00   \n",
       "99996        99996         0       2       Brown, Herman    male  66.00   \n",
       "99997        99997         0       3  Childress, Charles    male  37.00   \n",
       "99998        99998         0       3    Caughlin, Thomas    male  51.00   \n",
       "99999        99999         0       3       Enciso, Tyler    male  55.00   \n",
       "\n",
       "       SibSp  Parch     Ticket   Fare   Cabin Embarked  \n",
       "0          2      0     209245  27.14  C12239        S  \n",
       "1          0      0      27323  13.35     NaN        S  \n",
       "2          1      2  CA 457703  71.29     NaN        S  \n",
       "3          0      0   A. 10866  13.04     NaN        S  \n",
       "4          0      0     427635   7.76     NaN        S  \n",
       "...      ...    ...        ...    ...     ...      ...  \n",
       "99995      0      0   PC 15008  14.86  D17243        C  \n",
       "99996      0      0      13273  11.15     NaN        S  \n",
       "99997      0      0        NaN   9.95     NaN        S  \n",
       "99998      0      1     458654  30.92     NaN        S  \n",
       "99999      0      0     458074  13.96     NaN        S  \n",
       "\n",
       "[100000 rows x 12 columns]"
      ]
     },
     "execution_count": 192,
     "metadata": {},
     "output_type": "execute_result"
    }
   ],
   "source": [
    "titanic_data_path = \".\\\\titanic_data\\\\train.csv\"\n",
    "titanic_data = pd.read_csv(titanic_data_path)\n",
    "titanic_data"
   ]
  },
  {
   "cell_type": "markdown",
   "id": "8072354c",
   "metadata": {},
   "source": [
    "Проверим количество незаполненных данных по разным признакам:\n",
    " * Cabin\n",
    " * Age\n",
    " * Embarked\n",
    " * Fare"
   ]
  },
  {
   "cell_type": "code",
   "execution_count": 193,
   "id": "c3bb9de3",
   "metadata": {},
   "outputs": [
    {
     "data": {
      "text/plain": [
       "0.32134"
      ]
     },
     "execution_count": 193,
     "metadata": {},
     "output_type": "execute_result"
    }
   ],
   "source": [
    "titanic_data.PassengerId[titanic_data.Cabin.notnull()].count() / 100000\n"
   ]
  },
  {
   "cell_type": "markdown",
   "id": "2e24b1ad",
   "metadata": {},
   "source": [
    "Как мы можем увидеть, ячейки с данными о каюте составляют только 32% от общего числа, поэтому это поле при анализе можно опустить"
   ]
  },
  {
   "cell_type": "code",
   "execution_count": 194,
   "id": "8aeb3e66",
   "metadata": {},
   "outputs": [],
   "source": [
    "titanic_data = titanic_data.drop(\"Cabin\", axis = 1)"
   ]
  },
  {
   "cell_type": "markdown",
   "id": "b7ce43af",
   "metadata": {},
   "source": [
    "Проанализруем количество незаполненных данных о возрасте"
   ]
  },
  {
   "cell_type": "code",
   "execution_count": 195,
   "id": "1165f475",
   "metadata": {},
   "outputs": [
    {
     "data": {
      "text/plain": [
       "3292"
      ]
     },
     "execution_count": 195,
     "metadata": {},
     "output_type": "execute_result"
    }
   ],
   "source": [
    "100000 - titanic_data.PassengerId[titanic_data.Age.notnull()].count() "
   ]
  },
  {
   "cell_type": "markdown",
   "id": "795ffce3",
   "metadata": {},
   "source": [
    "Как мы можем видеть, мы имеем 3300 ячеек, которые имеют пустые значения.\n",
    "\n",
    "Заменим их на медианное значение"
   ]
  },
  {
   "cell_type": "code",
   "execution_count": 196,
   "id": "dfa2c296",
   "metadata": {},
   "outputs": [
    {
     "data": {
      "text/plain": [
       "0"
      ]
     },
     "execution_count": 196,
     "metadata": {},
     "output_type": "execute_result"
    }
   ],
   "source": [
    "titanic_data.Age = titanic_data.Age.fillna(titanic_data.Age.median())\n",
    "100000 - titanic_data.PassengerId[titanic_data.Age.notnull()].count() "
   ]
  },
  {
   "cell_type": "markdown",
   "id": "e328664f",
   "metadata": {},
   "source": [
    "Как мы можем видеть, все поля возраста успешно заполнились"
   ]
  },
  {
   "cell_type": "markdown",
   "id": "f1e084a0",
   "metadata": {},
   "source": [
    "Проверим количество пассажиров, для которых не указан порт посадки(Embarked)"
   ]
  },
  {
   "cell_type": "code",
   "execution_count": 197,
   "id": "d053492c",
   "metadata": {},
   "outputs": [
    {
     "data": {
      "text/html": [
       "<div>\n",
       "<style scoped>\n",
       "    .dataframe tbody tr th:only-of-type {\n",
       "        vertical-align: middle;\n",
       "    }\n",
       "\n",
       "    .dataframe tbody tr th {\n",
       "        vertical-align: top;\n",
       "    }\n",
       "\n",
       "    .dataframe thead th {\n",
       "        text-align: right;\n",
       "    }\n",
       "</style>\n",
       "<table border=\"1\" class=\"dataframe\">\n",
       "  <thead>\n",
       "    <tr style=\"text-align: right;\">\n",
       "      <th></th>\n",
       "      <th>PassengerId</th>\n",
       "      <th>Survived</th>\n",
       "      <th>Pclass</th>\n",
       "      <th>Name</th>\n",
       "      <th>Sex</th>\n",
       "      <th>Age</th>\n",
       "      <th>SibSp</th>\n",
       "      <th>Parch</th>\n",
       "      <th>Ticket</th>\n",
       "      <th>Fare</th>\n",
       "      <th>Embarked</th>\n",
       "    </tr>\n",
       "  </thead>\n",
       "  <tbody>\n",
       "    <tr>\n",
       "      <th>122</th>\n",
       "      <td>122</td>\n",
       "      <td>0</td>\n",
       "      <td>2</td>\n",
       "      <td>Broadway, Donald</td>\n",
       "      <td>male</td>\n",
       "      <td>65.0</td>\n",
       "      <td>0</td>\n",
       "      <td>0</td>\n",
       "      <td>43939</td>\n",
       "      <td>23.80</td>\n",
       "      <td>NaN</td>\n",
       "    </tr>\n",
       "    <tr>\n",
       "      <th>266</th>\n",
       "      <td>266</td>\n",
       "      <td>0</td>\n",
       "      <td>3</td>\n",
       "      <td>Rodriguez, Richard</td>\n",
       "      <td>male</td>\n",
       "      <td>26.0</td>\n",
       "      <td>0</td>\n",
       "      <td>0</td>\n",
       "      <td>11963</td>\n",
       "      <td>7.02</td>\n",
       "      <td>NaN</td>\n",
       "    </tr>\n",
       "    <tr>\n",
       "      <th>489</th>\n",
       "      <td>489</td>\n",
       "      <td>0</td>\n",
       "      <td>1</td>\n",
       "      <td>Dahms, Ashley</td>\n",
       "      <td>female</td>\n",
       "      <td>34.0</td>\n",
       "      <td>0</td>\n",
       "      <td>0</td>\n",
       "      <td>321399</td>\n",
       "      <td>28.63</td>\n",
       "      <td>NaN</td>\n",
       "    </tr>\n",
       "    <tr>\n",
       "      <th>1017</th>\n",
       "      <td>1017</td>\n",
       "      <td>1</td>\n",
       "      <td>1</td>\n",
       "      <td>Palmer, Wanda</td>\n",
       "      <td>female</td>\n",
       "      <td>53.0</td>\n",
       "      <td>0</td>\n",
       "      <td>0</td>\n",
       "      <td>PC 28731</td>\n",
       "      <td>28.10</td>\n",
       "      <td>NaN</td>\n",
       "    </tr>\n",
       "    <tr>\n",
       "      <th>2005</th>\n",
       "      <td>2005</td>\n",
       "      <td>1</td>\n",
       "      <td>1</td>\n",
       "      <td>Savage, Maria</td>\n",
       "      <td>female</td>\n",
       "      <td>46.0</td>\n",
       "      <td>0</td>\n",
       "      <td>0</td>\n",
       "      <td>11914</td>\n",
       "      <td>30.05</td>\n",
       "      <td>NaN</td>\n",
       "    </tr>\n",
       "    <tr>\n",
       "      <th>...</th>\n",
       "      <td>...</td>\n",
       "      <td>...</td>\n",
       "      <td>...</td>\n",
       "      <td>...</td>\n",
       "      <td>...</td>\n",
       "      <td>...</td>\n",
       "      <td>...</td>\n",
       "      <td>...</td>\n",
       "      <td>...</td>\n",
       "      <td>...</td>\n",
       "      <td>...</td>\n",
       "    </tr>\n",
       "    <tr>\n",
       "      <th>98228</th>\n",
       "      <td>98228</td>\n",
       "      <td>0</td>\n",
       "      <td>3</td>\n",
       "      <td>Kunz, Marc</td>\n",
       "      <td>male</td>\n",
       "      <td>19.0</td>\n",
       "      <td>0</td>\n",
       "      <td>0</td>\n",
       "      <td>S.C./PARIS 478751</td>\n",
       "      <td>27.97</td>\n",
       "      <td>NaN</td>\n",
       "    </tr>\n",
       "    <tr>\n",
       "      <th>98577</th>\n",
       "      <td>98577</td>\n",
       "      <td>1</td>\n",
       "      <td>3</td>\n",
       "      <td>Moncivais, Kay</td>\n",
       "      <td>female</td>\n",
       "      <td>44.0</td>\n",
       "      <td>0</td>\n",
       "      <td>1</td>\n",
       "      <td>CA 46094</td>\n",
       "      <td>25.46</td>\n",
       "      <td>NaN</td>\n",
       "    </tr>\n",
       "    <tr>\n",
       "      <th>98873</th>\n",
       "      <td>98873</td>\n",
       "      <td>0</td>\n",
       "      <td>1</td>\n",
       "      <td>Byers, Karen</td>\n",
       "      <td>female</td>\n",
       "      <td>47.0</td>\n",
       "      <td>2</td>\n",
       "      <td>1</td>\n",
       "      <td>29939</td>\n",
       "      <td>28.88</td>\n",
       "      <td>NaN</td>\n",
       "    </tr>\n",
       "    <tr>\n",
       "      <th>99237</th>\n",
       "      <td>99237</td>\n",
       "      <td>1</td>\n",
       "      <td>3</td>\n",
       "      <td>Walker, Carrie</td>\n",
       "      <td>female</td>\n",
       "      <td>71.0</td>\n",
       "      <td>0</td>\n",
       "      <td>0</td>\n",
       "      <td>526691</td>\n",
       "      <td>27.13</td>\n",
       "      <td>NaN</td>\n",
       "    </tr>\n",
       "    <tr>\n",
       "      <th>99757</th>\n",
       "      <td>99757</td>\n",
       "      <td>1</td>\n",
       "      <td>1</td>\n",
       "      <td>Delperdang, Margaret</td>\n",
       "      <td>female</td>\n",
       "      <td>51.0</td>\n",
       "      <td>0</td>\n",
       "      <td>0</td>\n",
       "      <td>43212</td>\n",
       "      <td>114.32</td>\n",
       "      <td>NaN</td>\n",
       "    </tr>\n",
       "  </tbody>\n",
       "</table>\n",
       "<p>250 rows × 11 columns</p>\n",
       "</div>"
      ],
      "text/plain": [
       "       PassengerId  Survived  Pclass                  Name     Sex   Age  \\\n",
       "122            122         0       2      Broadway, Donald    male  65.0   \n",
       "266            266         0       3    Rodriguez, Richard    male  26.0   \n",
       "489            489         0       1         Dahms, Ashley  female  34.0   \n",
       "1017          1017         1       1         Palmer, Wanda  female  53.0   \n",
       "2005          2005         1       1         Savage, Maria  female  46.0   \n",
       "...            ...       ...     ...                   ...     ...   ...   \n",
       "98228        98228         0       3            Kunz, Marc    male  19.0   \n",
       "98577        98577         1       3        Moncivais, Kay  female  44.0   \n",
       "98873        98873         0       1          Byers, Karen  female  47.0   \n",
       "99237        99237         1       3        Walker, Carrie  female  71.0   \n",
       "99757        99757         1       1  Delperdang, Margaret  female  51.0   \n",
       "\n",
       "       SibSp  Parch             Ticket    Fare Embarked  \n",
       "122        0      0              43939   23.80      NaN  \n",
       "266        0      0              11963    7.02      NaN  \n",
       "489        0      0             321399   28.63      NaN  \n",
       "1017       0      0           PC 28731   28.10      NaN  \n",
       "2005       0      0              11914   30.05      NaN  \n",
       "...      ...    ...                ...     ...      ...  \n",
       "98228      0      0  S.C./PARIS 478751   27.97      NaN  \n",
       "98577      0      1           CA 46094   25.46      NaN  \n",
       "98873      2      1              29939   28.88      NaN  \n",
       "99237      0      0             526691   27.13      NaN  \n",
       "99757      0      0              43212  114.32      NaN  \n",
       "\n",
       "[250 rows x 11 columns]"
      ]
     },
     "execution_count": 197,
     "metadata": {},
     "output_type": "execute_result"
    }
   ],
   "source": [
    "titanic_data[titanic_data.Embarked.isnull()]"
   ]
  },
  {
   "cell_type": "markdown",
   "id": "2e6f1e17",
   "metadata": {},
   "source": [
    "Таких пассажирров всего 250, можем заполнить их данные о порте посадки самым часто встречающимся портом"
   ]
  },
  {
   "cell_type": "code",
   "execution_count": 198,
   "id": "8359ce6f",
   "metadata": {},
   "outputs": [
    {
     "data": {
      "text/plain": [
       "'S'"
      ]
     },
     "execution_count": 198,
     "metadata": {},
     "output_type": "execute_result"
    }
   ],
   "source": [
    "titanic_data.groupby('Embarked').count()[\"PassengerId\"].idxmax()"
   ]
  },
  {
   "cell_type": "code",
   "execution_count": 199,
   "id": "666fbc4b",
   "metadata": {},
   "outputs": [
    {
     "data": {
      "text/html": [
       "<div>\n",
       "<style scoped>\n",
       "    .dataframe tbody tr th:only-of-type {\n",
       "        vertical-align: middle;\n",
       "    }\n",
       "\n",
       "    .dataframe tbody tr th {\n",
       "        vertical-align: top;\n",
       "    }\n",
       "\n",
       "    .dataframe thead th {\n",
       "        text-align: right;\n",
       "    }\n",
       "</style>\n",
       "<table border=\"1\" class=\"dataframe\">\n",
       "  <thead>\n",
       "    <tr style=\"text-align: right;\">\n",
       "      <th></th>\n",
       "      <th>PassengerId</th>\n",
       "      <th>Survived</th>\n",
       "      <th>Pclass</th>\n",
       "      <th>Name</th>\n",
       "      <th>Sex</th>\n",
       "      <th>Age</th>\n",
       "      <th>SibSp</th>\n",
       "      <th>Parch</th>\n",
       "      <th>Ticket</th>\n",
       "      <th>Fare</th>\n",
       "    </tr>\n",
       "    <tr>\n",
       "      <th>Embarked</th>\n",
       "      <th></th>\n",
       "      <th></th>\n",
       "      <th></th>\n",
       "      <th></th>\n",
       "      <th></th>\n",
       "      <th></th>\n",
       "      <th></th>\n",
       "      <th></th>\n",
       "      <th></th>\n",
       "      <th></th>\n",
       "    </tr>\n",
       "  </thead>\n",
       "  <tbody>\n",
       "    <tr>\n",
       "      <th>C</th>\n",
       "      <td>22187</td>\n",
       "      <td>22187</td>\n",
       "      <td>22187</td>\n",
       "      <td>22187</td>\n",
       "      <td>22187</td>\n",
       "      <td>22187</td>\n",
       "      <td>22187</td>\n",
       "      <td>22187</td>\n",
       "      <td>21949</td>\n",
       "      <td>22154</td>\n",
       "    </tr>\n",
       "    <tr>\n",
       "      <th>Q</th>\n",
       "      <td>5424</td>\n",
       "      <td>5424</td>\n",
       "      <td>5424</td>\n",
       "      <td>5424</td>\n",
       "      <td>5424</td>\n",
       "      <td>5424</td>\n",
       "      <td>5424</td>\n",
       "      <td>5424</td>\n",
       "      <td>5369</td>\n",
       "      <td>5416</td>\n",
       "    </tr>\n",
       "    <tr>\n",
       "      <th>S</th>\n",
       "      <td>72389</td>\n",
       "      <td>72389</td>\n",
       "      <td>72389</td>\n",
       "      <td>72389</td>\n",
       "      <td>72389</td>\n",
       "      <td>72389</td>\n",
       "      <td>72389</td>\n",
       "      <td>72389</td>\n",
       "      <td>68059</td>\n",
       "      <td>72296</td>\n",
       "    </tr>\n",
       "  </tbody>\n",
       "</table>\n",
       "</div>"
      ],
      "text/plain": [
       "          PassengerId  Survived  Pclass   Name    Sex    Age  SibSp  Parch  \\\n",
       "Embarked                                                                     \n",
       "C               22187     22187   22187  22187  22187  22187  22187  22187   \n",
       "Q                5424      5424    5424   5424   5424   5424   5424   5424   \n",
       "S               72389     72389   72389  72389  72389  72389  72389  72389   \n",
       "\n",
       "          Ticket   Fare  \n",
       "Embarked                 \n",
       "C          21949  22154  \n",
       "Q           5369   5416  \n",
       "S          68059  72296  "
      ]
     },
     "execution_count": 199,
     "metadata": {},
     "output_type": "execute_result"
    }
   ],
   "source": [
    "titanic_data.Embarked = titanic_data.Embarked.fillna(titanic_data.groupby('Embarked').count()[\"PassengerId\"].idxmax())\n",
    "titanic_data.groupby(\"Embarked\").count()"
   ]
  },
  {
   "cell_type": "markdown",
   "id": "a5b183ed",
   "metadata": {},
   "source": [
    "Все незаполненные поля успешно заполнены.\n",
    "\n",
    "Проверим  поле Fare на пустые значения и если таковые имеются заменим цену медианой по цене из все выборки:\n"
   ]
  },
  {
   "cell_type": "code",
   "execution_count": 200,
   "id": "033f6a63",
   "metadata": {
    "scrolled": true
   },
   "outputs": [],
   "source": [
    "titanic_data.Fare = titanic_data.Fare.fillna(titanic_data.Fare.median())"
   ]
  },
  {
   "cell_type": "markdown",
   "id": "daf40ce6",
   "metadata": {},
   "source": [
    "Опустим поля, которые на мой взгляд не имеют статестической ценности"
   ]
  },
  {
   "cell_type": "code",
   "execution_count": 201,
   "id": "2745e250",
   "metadata": {},
   "outputs": [],
   "source": [
    "titanic_data = titanic_data.drop(['Name','Ticket'],axis=1)"
   ]
  },
  {
   "cell_type": "markdown",
   "id": "98cf387a",
   "metadata": {},
   "source": [
    "# Общая статистика"
   ]
  },
  {
   "cell_type": "code",
   "execution_count": 202,
   "id": "b1592d5b",
   "metadata": {},
   "outputs": [
    {
     "data": {
      "text/html": [
       "<div>\n",
       "<style scoped>\n",
       "    .dataframe tbody tr th:only-of-type {\n",
       "        vertical-align: middle;\n",
       "    }\n",
       "\n",
       "    .dataframe tbody tr th {\n",
       "        vertical-align: top;\n",
       "    }\n",
       "\n",
       "    .dataframe thead th {\n",
       "        text-align: right;\n",
       "    }\n",
       "</style>\n",
       "<table border=\"1\" class=\"dataframe\">\n",
       "  <thead>\n",
       "    <tr style=\"text-align: right;\">\n",
       "      <th></th>\n",
       "      <th>PassengerId</th>\n",
       "      <th>Survived</th>\n",
       "      <th>Pclass</th>\n",
       "      <th>Sex</th>\n",
       "      <th>Age</th>\n",
       "      <th>SibSp</th>\n",
       "      <th>Parch</th>\n",
       "      <th>Fare</th>\n",
       "      <th>Embarked</th>\n",
       "    </tr>\n",
       "  </thead>\n",
       "  <tbody>\n",
       "    <tr>\n",
       "      <th>0</th>\n",
       "      <td>0</td>\n",
       "      <td>1</td>\n",
       "      <td>1</td>\n",
       "      <td>male</td>\n",
       "      <td>39.00</td>\n",
       "      <td>2</td>\n",
       "      <td>0</td>\n",
       "      <td>27.14</td>\n",
       "      <td>S</td>\n",
       "    </tr>\n",
       "    <tr>\n",
       "      <th>1</th>\n",
       "      <td>1</td>\n",
       "      <td>0</td>\n",
       "      <td>3</td>\n",
       "      <td>male</td>\n",
       "      <td>39.00</td>\n",
       "      <td>0</td>\n",
       "      <td>0</td>\n",
       "      <td>13.35</td>\n",
       "      <td>S</td>\n",
       "    </tr>\n",
       "    <tr>\n",
       "      <th>2</th>\n",
       "      <td>2</td>\n",
       "      <td>0</td>\n",
       "      <td>3</td>\n",
       "      <td>male</td>\n",
       "      <td>0.33</td>\n",
       "      <td>1</td>\n",
       "      <td>2</td>\n",
       "      <td>71.29</td>\n",
       "      <td>S</td>\n",
       "    </tr>\n",
       "    <tr>\n",
       "      <th>3</th>\n",
       "      <td>3</td>\n",
       "      <td>0</td>\n",
       "      <td>3</td>\n",
       "      <td>male</td>\n",
       "      <td>19.00</td>\n",
       "      <td>0</td>\n",
       "      <td>0</td>\n",
       "      <td>13.04</td>\n",
       "      <td>S</td>\n",
       "    </tr>\n",
       "    <tr>\n",
       "      <th>4</th>\n",
       "      <td>4</td>\n",
       "      <td>1</td>\n",
       "      <td>3</td>\n",
       "      <td>male</td>\n",
       "      <td>25.00</td>\n",
       "      <td>0</td>\n",
       "      <td>0</td>\n",
       "      <td>7.76</td>\n",
       "      <td>S</td>\n",
       "    </tr>\n",
       "    <tr>\n",
       "      <th>...</th>\n",
       "      <td>...</td>\n",
       "      <td>...</td>\n",
       "      <td>...</td>\n",
       "      <td>...</td>\n",
       "      <td>...</td>\n",
       "      <td>...</td>\n",
       "      <td>...</td>\n",
       "      <td>...</td>\n",
       "      <td>...</td>\n",
       "    </tr>\n",
       "    <tr>\n",
       "      <th>99995</th>\n",
       "      <td>99995</td>\n",
       "      <td>1</td>\n",
       "      <td>2</td>\n",
       "      <td>female</td>\n",
       "      <td>62.00</td>\n",
       "      <td>0</td>\n",
       "      <td>0</td>\n",
       "      <td>14.86</td>\n",
       "      <td>C</td>\n",
       "    </tr>\n",
       "    <tr>\n",
       "      <th>99996</th>\n",
       "      <td>99996</td>\n",
       "      <td>0</td>\n",
       "      <td>2</td>\n",
       "      <td>male</td>\n",
       "      <td>66.00</td>\n",
       "      <td>0</td>\n",
       "      <td>0</td>\n",
       "      <td>11.15</td>\n",
       "      <td>S</td>\n",
       "    </tr>\n",
       "    <tr>\n",
       "      <th>99997</th>\n",
       "      <td>99997</td>\n",
       "      <td>0</td>\n",
       "      <td>3</td>\n",
       "      <td>male</td>\n",
       "      <td>37.00</td>\n",
       "      <td>0</td>\n",
       "      <td>0</td>\n",
       "      <td>9.95</td>\n",
       "      <td>S</td>\n",
       "    </tr>\n",
       "    <tr>\n",
       "      <th>99998</th>\n",
       "      <td>99998</td>\n",
       "      <td>0</td>\n",
       "      <td>3</td>\n",
       "      <td>male</td>\n",
       "      <td>51.00</td>\n",
       "      <td>0</td>\n",
       "      <td>1</td>\n",
       "      <td>30.92</td>\n",
       "      <td>S</td>\n",
       "    </tr>\n",
       "    <tr>\n",
       "      <th>99999</th>\n",
       "      <td>99999</td>\n",
       "      <td>0</td>\n",
       "      <td>3</td>\n",
       "      <td>male</td>\n",
       "      <td>55.00</td>\n",
       "      <td>0</td>\n",
       "      <td>0</td>\n",
       "      <td>13.96</td>\n",
       "      <td>S</td>\n",
       "    </tr>\n",
       "  </tbody>\n",
       "</table>\n",
       "<p>100000 rows × 9 columns</p>\n",
       "</div>"
      ],
      "text/plain": [
       "       PassengerId  Survived  Pclass     Sex    Age  SibSp  Parch   Fare  \\\n",
       "0                0         1       1    male  39.00      2      0  27.14   \n",
       "1                1         0       3    male  39.00      0      0  13.35   \n",
       "2                2         0       3    male   0.33      1      2  71.29   \n",
       "3                3         0       3    male  19.00      0      0  13.04   \n",
       "4                4         1       3    male  25.00      0      0   7.76   \n",
       "...            ...       ...     ...     ...    ...    ...    ...    ...   \n",
       "99995        99995         1       2  female  62.00      0      0  14.86   \n",
       "99996        99996         0       2    male  66.00      0      0  11.15   \n",
       "99997        99997         0       3    male  37.00      0      0   9.95   \n",
       "99998        99998         0       3    male  51.00      0      1  30.92   \n",
       "99999        99999         0       3    male  55.00      0      0  13.96   \n",
       "\n",
       "      Embarked  \n",
       "0            S  \n",
       "1            S  \n",
       "2            S  \n",
       "3            S  \n",
       "4            S  \n",
       "...        ...  \n",
       "99995        C  \n",
       "99996        S  \n",
       "99997        S  \n",
       "99998        S  \n",
       "99999        S  \n",
       "\n",
       "[100000 rows x 9 columns]"
      ]
     },
     "execution_count": 202,
     "metadata": {},
     "output_type": "execute_result"
    }
   ],
   "source": [
    "titanic_data"
   ]
  },
  {
   "cell_type": "code",
   "execution_count": 203,
   "id": "e2ac940c",
   "metadata": {},
   "outputs": [
    {
     "data": {
      "text/html": [
       "<div>\n",
       "<style scoped>\n",
       "    .dataframe tbody tr th:only-of-type {\n",
       "        vertical-align: middle;\n",
       "    }\n",
       "\n",
       "    .dataframe tbody tr th {\n",
       "        vertical-align: top;\n",
       "    }\n",
       "\n",
       "    .dataframe thead th {\n",
       "        text-align: right;\n",
       "    }\n",
       "</style>\n",
       "<table border=\"1\" class=\"dataframe\">\n",
       "  <thead>\n",
       "    <tr style=\"text-align: right;\">\n",
       "      <th></th>\n",
       "      <th>PassengerId</th>\n",
       "      <th>Survived</th>\n",
       "      <th>Pclass</th>\n",
       "      <th>Age</th>\n",
       "      <th>SibSp</th>\n",
       "      <th>Parch</th>\n",
       "      <th>Fare</th>\n",
       "    </tr>\n",
       "  </thead>\n",
       "  <tbody>\n",
       "    <tr>\n",
       "      <th>count</th>\n",
       "      <td>100000.000000</td>\n",
       "      <td>100000.000000</td>\n",
       "      <td>100000.000000</td>\n",
       "      <td>100000.000000</td>\n",
       "      <td>100000.000000</td>\n",
       "      <td>100000.000000</td>\n",
       "      <td>100000.000000</td>\n",
       "    </tr>\n",
       "    <tr>\n",
       "      <th>mean</th>\n",
       "      <td>49999.500000</td>\n",
       "      <td>0.427740</td>\n",
       "      <td>2.106910</td>\n",
       "      <td>38.376690</td>\n",
       "      <td>0.397690</td>\n",
       "      <td>0.454560</td>\n",
       "      <td>43.903241</td>\n",
       "    </tr>\n",
       "    <tr>\n",
       "      <th>std</th>\n",
       "      <td>28867.657797</td>\n",
       "      <td>0.494753</td>\n",
       "      <td>0.837727</td>\n",
       "      <td>18.009956</td>\n",
       "      <td>0.862566</td>\n",
       "      <td>0.950076</td>\n",
       "      <td>69.545827</td>\n",
       "    </tr>\n",
       "    <tr>\n",
       "      <th>min</th>\n",
       "      <td>0.000000</td>\n",
       "      <td>0.000000</td>\n",
       "      <td>1.000000</td>\n",
       "      <td>0.080000</td>\n",
       "      <td>0.000000</td>\n",
       "      <td>0.000000</td>\n",
       "      <td>0.680000</td>\n",
       "    </tr>\n",
       "    <tr>\n",
       "      <th>25%</th>\n",
       "      <td>24999.750000</td>\n",
       "      <td>0.000000</td>\n",
       "      <td>1.000000</td>\n",
       "      <td>25.000000</td>\n",
       "      <td>0.000000</td>\n",
       "      <td>0.000000</td>\n",
       "      <td>10.040000</td>\n",
       "    </tr>\n",
       "    <tr>\n",
       "      <th>50%</th>\n",
       "      <td>49999.500000</td>\n",
       "      <td>0.000000</td>\n",
       "      <td>2.000000</td>\n",
       "      <td>39.000000</td>\n",
       "      <td>0.000000</td>\n",
       "      <td>0.000000</td>\n",
       "      <td>24.460000</td>\n",
       "    </tr>\n",
       "    <tr>\n",
       "      <th>75%</th>\n",
       "      <td>74999.250000</td>\n",
       "      <td>1.000000</td>\n",
       "      <td>3.000000</td>\n",
       "      <td>53.000000</td>\n",
       "      <td>1.000000</td>\n",
       "      <td>1.000000</td>\n",
       "      <td>33.470000</td>\n",
       "    </tr>\n",
       "    <tr>\n",
       "      <th>max</th>\n",
       "      <td>99999.000000</td>\n",
       "      <td>1.000000</td>\n",
       "      <td>3.000000</td>\n",
       "      <td>87.000000</td>\n",
       "      <td>8.000000</td>\n",
       "      <td>9.000000</td>\n",
       "      <td>744.660000</td>\n",
       "    </tr>\n",
       "  </tbody>\n",
       "</table>\n",
       "</div>"
      ],
      "text/plain": [
       "         PassengerId       Survived         Pclass            Age  \\\n",
       "count  100000.000000  100000.000000  100000.000000  100000.000000   \n",
       "mean    49999.500000       0.427740       2.106910      38.376690   \n",
       "std     28867.657797       0.494753       0.837727      18.009956   \n",
       "min         0.000000       0.000000       1.000000       0.080000   \n",
       "25%     24999.750000       0.000000       1.000000      25.000000   \n",
       "50%     49999.500000       0.000000       2.000000      39.000000   \n",
       "75%     74999.250000       1.000000       3.000000      53.000000   \n",
       "max     99999.000000       1.000000       3.000000      87.000000   \n",
       "\n",
       "               SibSp          Parch           Fare  \n",
       "count  100000.000000  100000.000000  100000.000000  \n",
       "mean        0.397690       0.454560      43.903241  \n",
       "std         0.862566       0.950076      69.545827  \n",
       "min         0.000000       0.000000       0.680000  \n",
       "25%         0.000000       0.000000      10.040000  \n",
       "50%         0.000000       0.000000      24.460000  \n",
       "75%         1.000000       1.000000      33.470000  \n",
       "max         8.000000       9.000000     744.660000  "
      ]
     },
     "execution_count": 203,
     "metadata": {},
     "output_type": "execute_result"
    }
   ],
   "source": [
    "titanic_data.describe()"
   ]
  },
  {
   "cell_type": "markdown",
   "id": "301eb52d",
   "metadata": {},
   "source": [
    "## Зависимость выживаемости от пола"
   ]
  },
  {
   "cell_type": "markdown",
   "id": "72f40fa6",
   "metadata": {},
   "source": [
    "Можно предположить, что шанс выжить у средней женщины был сильно выше, чем шанс выжить у среднего мужчины"
   ]
  },
  {
   "cell_type": "code",
   "execution_count": 204,
   "id": "e324d568",
   "metadata": {},
   "outputs": [
    {
     "data": {
      "text/plain": [
       "<AxesSubplot:title={'center':'Зависимость выживаемости от пола'}, xlabel='Sex', ylabel='Survived'>"
      ]
     },
     "execution_count": 204,
     "metadata": {},
     "output_type": "execute_result"
    },
    {
     "data": {
      "image/png": "[encoded data removed]",
      "text/plain": [
       "<Figure size 720x720 with 1 Axes>"
      ]
     },
     "metadata": {
      "needs_background": "light"
     },
     "output_type": "display_data"
    }
   ],
   "source": [
    "plt.figure(figsize=(10,10))\n",
    "plt.title(\"Зависимость выживаемости от пола\")\n",
    "sns.barplot(data=titanic_data, x=\"Sex\", y=\"Survived\")"
   ]
  },
  {
   "cell_type": "markdown",
   "id": "caccbab7",
   "metadata": {},
   "source": [
    "### Наше предположение подтвердилось\n",
    "\n",
    "В живых осталось:\n",
    "   * 20% мужчин\n",
    "   * 70% женщин\n",
    "   \n",
    "Можно показать этот же результат еще более наглядным графиком"
   ]
  },
  {
   "cell_type": "code",
   "execution_count": 205,
   "id": "21e777c6",
   "metadata": {},
   "outputs": [
    {
     "data": {
      "text/plain": [
       "<Figure size 1080x1080 with 0 Axes>"
      ]
     },
     "execution_count": 205,
     "metadata": {},
     "output_type": "execute_result"
    },
    {
     "data": {
      "image/png": "[encoded data removed]",
      "text/plain": [
       "<Figure size 425.575x360 with 1 Axes>"
      ]
     },
     "metadata": {
      "needs_background": "light"
     },
     "output_type": "display_data"
    },
    {
     "data": {
      "text/plain": [
       "<Figure size 1080x1080 with 0 Axes>"
      ]
     },
     "metadata": {},
     "output_type": "display_data"
    }
   ],
   "source": [
    "sns.catplot(x =\"Sex\", hue =\"Survived\", kind =\"count\", data = titanic_data)\n",
    "plt.title(\"Количество выживших в зависимости от пола и возраста\")\n",
    "plt.figure(figsize=(15,15))"
   ]
  },
  {
   "cell_type": "markdown",
   "id": "59ead0b0",
   "metadata": {},
   "source": [
    "## Зависимость социального статуса и выживаемости"
   ]
  },
  {
   "cell_type": "markdown",
   "id": "2b47d1c3",
   "metadata": {},
   "source": [
    "Можно проверить, зависит ли шанс на спасение от класса и стоимости билета"
   ]
  },
  {
   "cell_type": "code",
   "execution_count": 206,
   "id": "31d15650",
   "metadata": {},
   "outputs": [
    {
     "data": {
      "text/plain": [
       "<AxesSubplot:title={'center':'Соотнешение погибших и выживших по классам билета'}, xlabel='Class'>"
      ]
     },
     "execution_count": 206,
     "metadata": {},
     "output_type": "execute_result"
    },
    {
     "data": {
      "image/png": "[encoded data removed]",
      "text/plain": [
       "<Figure size 1440x360 with 1 Axes>"
      ]
     },
     "metadata": {
      "needs_background": "light"
     },
     "output_type": "display_data"
    }
   ],
   "source": [
    "\n",
    "titanic_data.pivot_table('PassengerId', 'Pclass', 'Survived', 'count').plot(kind='bar', stacked=True, xlabel='Class', \\\n",
    "                                                                            title='Соотнешение погибших и выживших по классам билета')"
   ]
  },
  {
   "cell_type": "markdown",
   "id": "fec396c1",
   "metadata": {},
   "source": [
    "В этом графике видно, что наше предположение подтвердилось, и шанс на спасение действительно зависят от класса билета"
   ]
  },
  {
   "cell_type": "code",
   "execution_count": 207,
   "id": "f6bf4a70",
   "metadata": {},
   "outputs": [
    {
     "data": {
      "text/plain": [
       "Text(0.5, 1.0, 'Шанс на спасение для каждого класса')"
      ]
     },
     "execution_count": 207,
     "metadata": {},
     "output_type": "execute_result"
    },
    {
     "data": {
      "image/png": "[encoded data removed]",
      "text/plain": [
       "<Figure size 1440x360 with 1 Axes>"
      ]
     },
     "metadata": {
      "needs_background": "light"
     },
     "output_type": "display_data"
    }
   ],
   "source": [
    "sns.barplot(data=titanic_data, x='Pclass', y = 'Survived')\n",
    "plt.xlabel(\"Class\")\n",
    "plt.title(\"Шанс на спасение для каждого класса\")"
   ]
  },
  {
   "cell_type": "markdown",
   "id": "3987fab7",
   "metadata": {},
   "source": [
    "Этот график еще более наглядно показывает неравенство распределения выживших, притом шанс выжить резко падает в третьем классе.\n",
    "\n",
    "Также это можно показать с помощью heatmap:"
   ]
  },
  {
   "cell_type": "code",
   "execution_count": 208,
   "id": "da659123",
   "metadata": {},
   "outputs": [
    {
     "data": {
      "text/plain": [
       "<AxesSubplot:xlabel='Survived', ylabel='Pclass'>"
      ]
     },
     "execution_count": 208,
     "metadata": {},
     "output_type": "execute_result"
    },
    {
     "data": {
      "image/png": "[encoded data removed]",
      "text/plain": [
       "<Figure size 1440x360 with 2 Axes>"
      ]
     },
     "metadata": {
      "needs_background": "light"
     },
     "output_type": "display_data"
    }
   ],
   "source": [
    "group = titanic_data.groupby(['Pclass', 'Survived'])\n",
    "pclass_survived = group.size().unstack()\n",
    "sns.heatmap(pclass_survived, annot = True, fmt =\"d\")"
   ]
  },
  {
   "cell_type": "markdown",
   "id": "db59e366",
   "metadata": {},
   "source": [
    "Проанализруем зависимость возраста пассажиров и выживаемости:"
   ]
  },
  {
   "cell_type": "code",
   "execution_count": 209,
   "id": "a4223dc5",
   "metadata": {},
   "outputs": [
    {
     "data": {
      "text/plain": [
       "<AxesSubplot:title={'center':'Зависимость выживаемости от возраста'}, xlabel='Sex', ylabel='Age'>"
      ]
     },
     "execution_count": 209,
     "metadata": {},
     "output_type": "execute_result"
    },
    {
     "data": {
      "image/png": "[encoded data removed]",
      "text/plain": [
       "<Figure size 1080x1080 with 1 Axes>"
      ]
     },
     "metadata": {
      "needs_background": "light"
     },
     "output_type": "display_data"
    }
   ],
   "source": [
    "plt.figure(figsize=(15,15))\n",
    "plt.title(\"Зависимость выживаемости от возраста\")\n",
    "sns.violinplot(x =\"Sex\", y =\"Age\", hue =\"Survived\",data = titanic_data, split = True)"
   ]
  },
  {
   "cell_type": "markdown",
   "id": "1fd58a15",
   "metadata": {},
   "source": [
    "По этому графику видно, что шанс на выживание:\n",
    "  * Быстро уменьшается для мужчин с увеличением возраста\n",
    "  * Высок для женщин от 20 до 60"
   ]
  },
  {
   "cell_type": "markdown",
   "id": "d02f07e5",
   "metadata": {},
   "source": [
    "# Зависимость шанса на выживание от количества родственников"
   ]
  },
  {
   "cell_type": "markdown",
   "id": "62488777",
   "metadata": {},
   "source": [
    "Давайте заведем новые колонки для размера семьи и того, имеет ли он семью в целом, и проанализируем зависимость выживаемости от этих колонок"
   ]
  },
  {
   "cell_type": "code",
   "execution_count": 211,
   "id": "6ba6d258",
   "metadata": {},
   "outputs": [
    {
     "name": "stderr",
     "output_type": "stream",
     "text": [
      "C:\\Users\\vipca\\anaconda3\\lib\\site-packages\\seaborn\\categorical.py:3717: UserWarning: The `factorplot` function has been renamed to `catplot`. The original name will be removed in a future release. Please update your code. Note that the default `kind` in `factorplot` (`'point'`) has changed `'strip'` in `catplot`.\n",
      "  warnings.warn(msg)\n",
      "C:\\Users\\vipca\\anaconda3\\lib\\site-packages\\seaborn\\categorical.py:3717: UserWarning: The `factorplot` function has been renamed to `catplot`. The original name will be removed in a future release. Please update your code. Note that the default `kind` in `factorplot` (`'point'`) has changed `'strip'` in `catplot`.\n",
      "  warnings.warn(msg)\n"
     ]
    },
    {
     "data": {
      "text/plain": [
       "<seaborn.axisgrid.FacetGrid at 0x2345a025d60>"
      ]
     },
     "execution_count": 211,
     "metadata": {},
     "output_type": "execute_result"
    },
    {
     "data": {
      "image/png": "[encoded data removed]",
      "text/plain": [
       "<Figure size 360x360 with 1 Axes>"
      ]
     },
     "metadata": {
      "needs_background": "light"
     },
     "output_type": "display_data"
    },
    {
     "data": {
      "image/png": "[encoded data removed]",
      "text/plain": [
       "<Figure size 360x360 with 1 Axes>"
      ]
     },
     "metadata": {
      "needs_background": "light"
     },
     "output_type": "display_data"
    }
   ],
   "source": [
    "titanic_data['Family_Size'] = 0\n",
    "titanic_data['Family_Size'] = titanic_data['Parch']+titanic_data['SibSp']\n",
    "\n",
    "titanic_data['Alone'] = 0\n",
    "titanic_data.loc[titanic_data.Family_Size == 0, 'Alone'] = 1\n",
    "\n",
    "# Factorplot for Family_Siz\n",
    "\n",
    "sns.factorplot(x ='Family_Size', y ='Survived', data = titanic_data)\n",
    "# Factorplot for Alone\n",
    "sns.factorplot(x ='Alone', y ='Survived', data = titanic_data)\n"
   ]
  },
  {
   "cell_type": "markdown",
   "id": "de125ad5",
   "metadata": {},
   "source": [
    "По этим данным видно, что:\n",
    "* Шанс выжить у одинокого человека меньше, чем у человека, имеющего хотя бы одного родственника\n",
    "* Шанс выжить в среднем уменьшается при увеличении количества родственников, если не считать семьи очень большого размера(их мало, поэтому трудно делать статистически достоверные выводы на их основе)"
   ]
  },
  {
   "cell_type": "markdown",
   "id": "8db74a96",
   "metadata": {},
   "source": [
    "#### Теперь найдем непосредственную зависимость выживаемости от цены билета"
   ]
  },
  {
   "cell_type": "code",
   "execution_count": 212,
   "id": "e768b4d3",
   "metadata": {},
   "outputs": [
    {
     "data": {
      "text/plain": [
       "<Figure size 1800x1080 with 0 Axes>"
      ]
     },
     "execution_count": 212,
     "metadata": {},
     "output_type": "execute_result"
    },
    {
     "data": {
      "image/png": "[encoded data removed]",
      "text/plain": [
       "<Figure size 1440x360 with 1 Axes>"
      ]
     },
     "metadata": {
      "needs_background": "light"
     },
     "output_type": "display_data"
    },
    {
     "data": {
      "text/plain": [
       "<Figure size 1800x1080 with 0 Axes>"
      ]
     },
     "metadata": {},
     "output_type": "display_data"
    }
   ],
   "source": [
    "titanic_data[\"RangeFair\"] = pd.qcut(titanic_data['Fare'], 16)\n",
    "\n",
    "sns.barplot(x=\"RangeFair\", y=\"Survived\", data = titanic_data)\n",
    "plt.xticks(rotation=45)\n",
    "plt.title(\"Зависимость выживаемости от цены билета\")\n",
    "plt.figure(figsize=(25,15))"
   ]
  },
  {
   "cell_type": "markdown",
   "id": "0afc37f9",
   "metadata": {},
   "source": [
    "По этому графику видно, что с увеличением цены билета увеличивается и шанс пассажира на выживание"
   ]
  },
  {
   "cell_type": "markdown",
   "id": "c593f532",
   "metadata": {},
   "source": [
    "# Зависимость выживаемости пассажира от порта отправления"
   ]
  },
  {
   "cell_type": "markdown",
   "id": "f4442a6e",
   "metadata": {},
   "source": [
    "Проверим, есть ли какая-то заметная корреляция порта отправления и выживания"
   ]
  },
  {
   "cell_type": "code",
   "execution_count": 213,
   "id": "86f82ba5",
   "metadata": {},
   "outputs": [
    {
     "data": {
      "text/plain": [
       "<seaborn.axisgrid.FacetGrid at 0x23459fc7c40>"
      ]
     },
     "execution_count": 213,
     "metadata": {},
     "output_type": "execute_result"
    },
    {
     "data": {
      "text/plain": [
       "<Figure size 2880x720 with 0 Axes>"
      ]
     },
     "metadata": {},
     "output_type": "display_data"
    },
    {
     "data": {
      "image/png": "[encoded data removed]",
      "text/plain": [
       "<Figure size 1145.58x360 with 3 Axes>"
      ]
     },
     "metadata": {
      "needs_background": "light"
     },
     "output_type": "display_data"
    }
   ],
   "source": [
    "plt.figure(figsize=(40, 10))\n",
    "sns.catplot(x ='Embarked', hue ='Survived',kind ='count', col ='Pclass', data = titanic_data)"
   ]
  },
  {
   "cell_type": "markdown",
   "id": "ceb7a728",
   "metadata": {},
   "source": [
    "* Бошльшинство людей с билетами 3 класса отправлялись из Q\n"
   ]
  }
 ],
 "metadata": {
  "kernelspec": {
   "display_name": "Python 3 (ipykernel)",
   "language": "python",
   "name": "python3"
  },
  "language_info": {
   "codemirror_mode": {
    "name": "ipython",
    "version": 3
   },
   "file_extension": ".py",
   "mimetype": "text/x-python",
   "name": "python",
   "nbconvert_exporter": "python",
   "pygments_lexer": "ipython3",
   "version": "3.9.7"
  }
 },
 "nbformat": 4,
 "nbformat_minor": 5
}
